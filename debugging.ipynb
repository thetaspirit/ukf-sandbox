{
 "cells": [
  {
   "cell_type": "code",
   "execution_count": 1,
   "metadata": {},
   "outputs": [],
   "source": [
    "using LinearAlgebra\n",
    "using Plots\n",
    "using MultivariateStats, StatsPlots\n",
    "using Distributions\n",
    "using DelimitedFiles\n",
    "using DataFrames\n",
    "using CSV\n",
    "using ProgressMeter"
   ]
  },
  {
   "cell_type": "markdown",
   "metadata": {},
   "source": [
    "# Unscented Kalman Filtering on a Kinematic Bicycle"
   ]
  },
  {
   "cell_type": "markdown",
   "metadata": {},
   "source": [
    "## Helper Functions"
   ]
  },
  {
   "cell_type": "code",
   "execution_count": 2,
   "metadata": {},
   "outputs": [
    {
     "data": {
      "text/plain": [
       "dynamics (generic function with 1 method)"
      ]
     },
     "metadata": {},
     "output_type": "display_data"
    }
   ],
   "source": [
    "# f, Kinematic bicycle with teleporting steering\n",
    "function dynamics(x, u, params)\n",
    "    v, l = params\n",
    "    px, py, θ = x\n",
    "    δ = u[1]\n",
    "    ẋ = [v*cos(θ);\n",
    "         v*sin(θ);\n",
    "         v*tan(δ) / l]\n",
    "    return ẋ\n",
    "end"
   ]
  },
  {
   "cell_type": "code",
   "execution_count": 3,
   "metadata": {},
   "outputs": [
    {
     "data": {
      "text/plain": [
       "rk4 (generic function with 1 method)"
      ]
     },
     "metadata": {},
     "output_type": "display_data"
    }
   ],
   "source": [
    "# Approximately integrate dynamics over a timestep dt to get a discrete update function\n",
    "function rk4(xₖ, uₖ, params, dt)\n",
    "    k1 = dynamics(xₖ, uₖ, params)\n",
    "    k2 = dynamics(xₖ + k1*dt/2, uₖ, params)\n",
    "    k3 = dynamics(xₖ + k2*dt/2, uₖ, params)\n",
    "    k4 = dynamics(xₖ + k3*dt, uₖ, params)\n",
    "\n",
    "    xₖ₊₁ = xₖ + dt * (k1 + 2k2 + 2k3 + k4) / 6\n",
    "    return xₖ₊₁\n",
    "end"
   ]
  },
  {
   "cell_type": "code",
   "execution_count": 4,
   "metadata": {},
   "outputs": [
    {
     "data": {
      "text/plain": [
       "generate_sigma_points (generic function with 1 method)"
      ]
     },
     "metadata": {},
     "output_type": "display_data"
    }
   ],
   "source": [
    "# Given a mean and covariance in N-dimensional space, generate 2N+1 weighted points\n",
    "# with the given weighted mean and weighted covariance\n",
    "function generate_sigma_points(x̂, Σ)\n",
    "    Nx = length(x̂)\n",
    "    A = sqrt(Σ)\n",
    "    σ = [zeros(Nx) for j in 1:(2Nx+1)]\n",
    "    W = zeros(2Nx+1)\n",
    "    W[1] = 1/3\n",
    "\n",
    "    σ[1] .= x̂\n",
    "\n",
    "     for j in 1:Nx\n",
    "        σ[1+j] .= @. x̂ + √(Nx / (1 - W[1])) * A[:,j] \n",
    "     end\n",
    " \n",
    "     for j in 1:Nx\n",
    "        σ[1+Nx+j] .= @. x̂ - √(Nx / (1 - W[1])) * A[:,j] \n",
    "     end\n",
    " \n",
    "    W[2:end] .= (1- W[1])/(2Nx)\n",
    "    \n",
    "    return σ, W\n",
    "end"
   ]
  },
  {
   "cell_type": "code",
   "execution_count": 5,
   "metadata": {},
   "outputs": [
    {
     "data": {
      "text/plain": [
       "measurement (generic function with 1 method)"
      ]
     },
     "metadata": {},
     "output_type": "display_data"
    }
   ],
   "source": [
    "# maps vector in state space to vector in measurement space\n",
    "# g, \"GPS\" measurement of positions\n",
    "function measurement(x)\n",
    "    y = x[1:2]\n",
    "    return y\n",
    "end"
   ]
  },
  {
   "cell_type": "code",
   "execution_count": 6,
   "metadata": {},
   "outputs": [
    {
     "data": {
      "text/plain": [
       "accuracy_to_gps_noise (generic function with 1 method)"
      ]
     },
     "metadata": {},
     "output_type": "display_data"
    }
   ],
   "source": [
    "function accuracy_to_gps_noise(accuracy)\n",
    "  accuracy /= 1000.0\n",
    "  σ = (accuracy / (0.848867684498)) * (accuracy / (0.848867684498));\n",
    "  return [σ 0; \n",
    "          0 σ];\n",
    "end"
   ]
  },
  {
   "cell_type": "markdown",
   "metadata": {},
   "source": [
    "## Predict and Update"
   ]
  },
  {
   "cell_type": "code",
   "execution_count": 7,
   "metadata": {},
   "outputs": [
    {
     "data": {
      "text/plain": [
       "ukf_predict (generic function with 1 method)"
      ]
     },
     "metadata": {},
     "output_type": "display_data"
    }
   ],
   "source": [
    "# Given a state estimate and covariance, apply nonlinear dynamics over dt to sigma points\n",
    "# and calculate a new state estimate and covariance\n",
    "function ukf_predict(x̂ₖ, Σₖ, Q, uₖ, dt, params)\n",
    "    Nx = length(x̂ₖ)\n",
    "    σ, W = generate_sigma_points(x̂ₖ, Σₖ)\n",
    "\n",
    "    for k in 1:lastindex(σ)\n",
    "        σ[k] .= rk4(σ[k], uₖ, params, dt)\n",
    "    end \n",
    "\n",
    "    x̂ₖ₊₁ = zeros(Nx)\n",
    "    Σₖ₊₁ = zeros(Nx, Nx)\n",
    "\n",
    "    for k in 1:lastindex(σ)\n",
    "        x̂ₖ₊₁ .+= W[k].* σ[k]\n",
    "    end\n",
    "    for k in 1:lastindex(σ)\n",
    "        Σₖ₊₁ .+= W[k].* ((σ[k] - x̂ₖ₊₁) * (σ[k] - x̂ₖ₊₁)')\n",
    "    end\n",
    "\n",
    "    Σₖ₊₁ .+= Q\n",
    "\n",
    "    return x̂ₖ₊₁, Σₖ₊₁\n",
    "end"
   ]
  },
  {
   "cell_type": "code",
   "execution_count": 8,
   "metadata": {},
   "outputs": [
    {
     "data": {
      "text/plain": [
       "ukf_update (generic function with 1 method)"
      ]
     },
     "metadata": {},
     "output_type": "display_data"
    }
   ],
   "source": [
    "# Given a state estimate, covariance of the state estimate, measurement and covariance of the measurement,\n",
    "# apply the measurement function to sigma points,\n",
    "# calculate the mean and covariance in measurement space, then use this to calculate the Kalman gain, \n",
    "# then use the gain and measurement to calculate the updated state estimate and covariance.\n",
    "function ukf_update(x̂, Σ, y, R)\n",
    "    Nx = length(x̂)\n",
    "    Ny = length(y)\n",
    "    σ, W = generate_sigma_points(x̂, Σ)\n",
    "    z = [zeros(Ny) for _ in σ]\n",
    "\n",
    "    for j in 1:lastindex(σ)\n",
    "        z[j] = measurement(σ[j])\n",
    "    end \n",
    "\n",
    "    ẑ = zeros(Ny)\n",
    "    S = zeros(Ny, Ny)\n",
    "    Cxz = zeros(Nx, Ny)\n",
    "\n",
    "    for k in 1:lastindex(z)\n",
    "        ẑ .+= W[k].* z[k]\n",
    "    end\n",
    "    for k in 1:lastindex(z)\n",
    "        S .+= W[k].* (z[k] - ẑ) * (z[k] - ẑ)'\n",
    "        Cxz .+= W[k] .* (σ[k] - x̂) * (z[k] - ẑ)'\n",
    "    end\n",
    "    S .+= R\n",
    "\n",
    "    K = Cxz * inv(S)\n",
    "\n",
    "    x̂ₖ₊₁ = x̂ + K * (y - ẑ)\n",
    "    Σₖ₊₁ = Σ - K * S * K'\n",
    "    return x̂ₖ₊₁, Σₖ₊₁\n",
    "end"
   ]
  },
  {
   "cell_type": "markdown",
   "metadata": {},
   "source": [
    "# Testing\n",
    "using the filter on a simulated scenario"
   ]
  },
  {
   "cell_type": "markdown",
   "metadata": {},
   "source": [
    "## Defining properties of the scenario\n",
    "system parameters and covariances"
   ]
  },
  {
   "cell_type": "code",
   "execution_count": 9,
   "metadata": {},
   "outputs": [
    {
     "data": {
      "text/plain": [
       "(0.0, 1.0)"
      ]
     },
     "metadata": {},
     "output_type": "display_data"
    }
   ],
   "source": [
    "# System parameters\n",
    "\n",
    "l = 1.0 # Wheelbase, (m)\n",
    "v = 0.0 # Velocity, (m/s)\n",
    "params = v, l"
   ]
  },
  {
   "cell_type": "code",
   "execution_count": 10,
   "metadata": {},
   "outputs": [
    {
     "data": {
      "text/plain": [
       "3×3 Matrix{Float64}:\n",
       " 0.0001  0.0     0.0\n",
       " 0.0     0.0001  0.0\n",
       " 0.0     0.0     1.0e-6"
      ]
     },
     "metadata": {},
     "output_type": "display_data"
    }
   ],
   "source": [
    "# Covariances. Remember, these are in squared units. To get an idea of the \n",
    "# corresponding 95% confidence interval, take the square root and multiply by ~2.\n",
    "\n",
    "# Σ0 = diagm(ones(3)) # Initial estimate covariance for the filter\n",
    "# Σ0 = diagm([1.5, 1.5, 1.5]) \n",
    "# Σ0 = diagm([3, 3, 3]) \n",
    "# Σ0 = zeros(3)\n",
    "Σ0 = diagm([1e-4; 1e-4; 1e-6]) \n",
    "\n",
    "R = diagm([1e-2, 1e-2]) # Sensor covariances (m^2, m^2)\n",
    "Q = diagm([1e-4; 1e-4; 1e-6]) # Process covariances (m^2, m^2, rad^2) \n",
    "                              # ^ the process covariances are timestep size dependent"
   ]
  },
  {
   "cell_type": "markdown",
   "metadata": {},
   "source": [
    "## Loading Measurement and Input Data\n",
    "gps, encoder, steering"
   ]
  },
  {
   "cell_type": "code",
   "execution_count": 11,
   "metadata": {},
   "outputs": [
    {
     "data": {
      "text/plain": [
       "40756-element Vector{Float64}:\n",
       " 122.55\n",
       " 122.563\n",
       " 122.574\n",
       " 122.585\n",
       " 122.596\n",
       " 122.607\n",
       " 122.618\n",
       " 122.629\n",
       " 122.64\n",
       " 122.651\n",
       "   ⋮\n",
       " 580.738\n",
       " 580.749\n",
       " 580.76\n",
       " 580.771\n",
       " 580.782\n",
       " 580.793\n",
       " 580.804\n",
       " 580.816\n",
       " 580.827"
      ]
     },
     "metadata": {},
     "output_type": "display_data"
    }
   ],
   "source": [
    "gps_df      = DataFrame(CSV.File(\"nand-logs/nand-lgap-gps.csv\"))\n",
    "encoder_df  = DataFrame(CSV.File(\"nand-logs/nand-lgap-encoder.csv\"))\n",
    "steering_df = DataFrame(CSV.File(\"nand-logs/nand-lgap-steering.csv\"))\n",
    "\n",
    "gps_df[!, \"timestamp\"] = gps_df[!, \"timestamp\"] ./ 1000.0           \n",
    "encoder_df[!, \"timestamp\"] = encoder_df[!, \"timestamp\"] ./ 1000.0   \n",
    "steering_df[!, \"timestamp\"] = steering_df[!, \"timestamp\"] ./ 1000.0 \n"
   ]
  },
  {
   "cell_type": "markdown",
   "metadata": {},
   "source": [
    "## Running the UKF"
   ]
  },
  {
   "cell_type": "code",
   "execution_count": 12,
   "metadata": {},
   "outputs": [
    {
     "data": {
      "text/plain": [
       "simulate_uk_filter (generic function with 1 method)"
      ]
     },
     "metadata": {},
     "output_type": "display_data"
    }
   ],
   "source": [
    "# Simulate a non-deterministic process with process covariance Q and measurement covariance R,\n",
    "# and with an Unscented Kalman Filter applied\n",
    "function simulate_uk_filter(Q, R)\n",
    "  gps_row = 1\n",
    "  encoder_row = 1\n",
    "  steering_row = 1\n",
    "\n",
    "  x̂ = [gps_df[1, \"pos_x\"]; gps_df[1, \"pos_y\"]; 0.0]\n",
    "  Σ = diagm([1.0; 1.0; 1.0])\n",
    "\n",
    "  Xhat = []\n",
    "  Sigma = []\n",
    "\n",
    "  v = 0.0\n",
    "\n",
    "  last_predict_timestamp = 277.757 #steering_df[1, \"timestamp\"]\n",
    "\n",
    "  p = Progress(trunc(Int, round(gps_df[end, \"timestamp\"]* 1000)))\n",
    "\n",
    "  try\n",
    "  while (gps_row <= size(gps_df, 1) && encoder_row <= size(encoder_df, 1) && steering_row <= size(steering_df, 1))\n",
    "    \n",
    "    if (last_predict_timestamp > gps_df[gps_row, \"timestamp\"] && last_predict_timestamp > encoder_df[encoder_row, \"timestamp\"] && last_predict_timestamp > steering_df[steering_row, \"timestamp\"])\n",
    "      continue\n",
    "    end\n",
    "\n",
    "    if (gps_df[gps_row, \"timestamp\"] < encoder_df[encoder_row, \"timestamp\"] && gps_df[gps_row, \"timestamp\"] < steering_df[steering_row, \"timestamp\"]) \n",
    "      # gps is the next timestamp\n",
    "      # set the new gps noise\n",
    "      # predict using most recent steering and velocity\n",
    "      # then update using the current gps noise\n",
    "      dt = gps_df[gps_row, \"timestamp\"] - last_predict_timestamp;\n",
    "\n",
    "      R = accuracy_to_gps_noise(gps_df[gps_row, \"accuracy\"])\n",
    "\n",
    "      x̂, Σ = ukf_predict(x̂, Σ, Q, deg2rad(steering_df[steering_row, \"steering\"]), dt, (l, v))\n",
    "\n",
    "      x̂, Σ = ukf_update(x̂, Σ, [gps_df[gps_row, \"pos_x\"]; gps_df[gps_row, \"pos_y\"]], R)\n",
    "\n",
    "      last_predict_timestamp = gps_df[gps_row, \"timestamp\"]\n",
    "      gps_row += 1\n",
    "    elseif (encoder_df[encoder_row, \"timestamp\"] < steering_df[steering_row, \"timestamp\"])\n",
    "      # encoder is the next timestamp\n",
    "      # set the new speed stored by instance of UKF\n",
    "      # predict using most recent steering and new speed\n",
    "      dt = encoder_df[encoder_row, \"timestamp\"] - last_predict_timestamp;\n",
    "\n",
    "      v = encoder_df[encoder_row, \"speed\"]\n",
    "      x̂, Σ = ukf_predict(x̂, Σ, Q, deg2rad(steering_df[steering_row, \"steering\"]), dt, (l, v))\n",
    "\n",
    "      last_predict_timestamp = encoder_df[encoder_row, \"timestamp\"]\n",
    "      encoder_row += 1\n",
    "    else \n",
    "      # steering is the next timestamp\n",
    "      # predict using this new steering\n",
    "      dt = steering_df[steering_row, \"timestamp\"] - last_predict_timestamp;\n",
    "\n",
    "      x̂, Σ = ukf_predict(x̂, Σ, Q, deg2rad(steering_df[steering_row, \"steering\"]), dt, (l, v))\n",
    "\n",
    "      last_predict_timestamp = steering_df[steering_row, \"timestamp\"]\n",
    "      steering_row += 1\n",
    "    end\n",
    "\n",
    "    update!(p, trunc(Int, last_predict_timestamp*1000))\n",
    "    flush(stdout)\n",
    "    push!(Xhat, x̂)\n",
    "    push!(Sigma, Σ)\n",
    "  end\n",
    "\n",
    "catch e\n",
    "  println(last_predict_timestamp)\n",
    "  println(x̂)\n",
    "  println(Σ)\n",
    "  flush(stdout)\n",
    "end\n",
    "\n",
    "  return Xhat, Sigma\n",
    "end"
   ]
  },
  {
   "cell_type": "code",
   "execution_count": 13,
   "metadata": {},
   "outputs": [],
   "source": [
    "Xhat, Sigma = simulate_uk_filter(Q, R)"
   ]
  },
  {
   "cell_type": "markdown",
   "metadata": {},
   "source": [
    "## Visualizations"
   ]
  },
  {
   "cell_type": "code",
   "execution_count": null,
   "metadata": {},
   "outputs": [],
   "source": [
    "# Let's see how the filter does on position estimation\n",
    "\n",
    "plot(title=\"Trajectory Filtering\", xlabel=\"X (m)\", ylabel=\"Y (m)\", aspect_ratio=:equal)\n",
    "plot!(gps_df[:, \"pos_x\"], gps_df[:, \"pos_y\"], label=\"Measured\", linewidth=0.5)\n",
    "plot!([x[1] for x in Xhat], [x[2] for x in Xhat], label=\"Filtered\")"
   ]
  },
  {
   "cell_type": "code",
   "execution_count": null,
   "metadata": {},
   "outputs": [],
   "source": [
    "# Remember, we aren't measuring the heading, only a noisy position, \n",
    "# but the filter is able to use this information to converge to\n",
    "# a good estimate of the heading over time.\n",
    "\n",
    "plot(title=\"Heading Filtering\", xlabel=\"Time (s)\", ylabel=\"Heading (rad)\")\n",
    "plot!(t, [x[3] for x in X], label=\"True\")\n",
    "plot!(t, [x[3] for x in Xhat], label=\"Filtered\", color=\"green\")"
   ]
  },
  {
   "cell_type": "code",
   "execution_count": null,
   "metadata": {},
   "outputs": [],
   "source": [
    "# And let's see how the filter's confidence in its estimate evolves over time\n",
    "\n",
    "plot(title=\"Estimate Standard Deviations\", xlabel=\"Time(s)\", ylabel=\"σᵢᵢ\", yscale=:log10, ylim=(1e-3, 1))\n",
    "plot!(t, [√(σ²[1,1]) for σ² in Σs], label=\"X Position (m)\")\n",
    "plot!(t, [√(σ²[2,2]) for σ² in Σs], label=\"Y Position (m)\")\n",
    "plot!(t, [√(σ²[3,3]) for σ² in Σs], label=\"Heading (rad)\")"
   ]
  }
 ],
 "metadata": {
  "kernelspec": {
   "display_name": "Julia 1.10.2",
   "language": "julia",
   "name": "julia-1.10"
  },
  "language_info": {
   "file_extension": ".jl",
   "mimetype": "application/julia",
   "name": "julia",
   "version": "1.10.2"
  }
 },
 "nbformat": 4,
 "nbformat_minor": 2
}
